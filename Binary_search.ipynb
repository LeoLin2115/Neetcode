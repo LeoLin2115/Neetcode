{
 "cells": [
  {
   "cell_type": "markdown",
   "metadata": {},
   "source": [
    "## Binary Search 7 problems"
   ]
  },
  {
   "cell_type": "markdown",
   "metadata": {},
   "source": [
    "## 1 easy, 5 medium, 1 hard"
   ]
  },
  {
   "cell_type": "markdown",
   "metadata": {},
   "source": [
    "## LC 704. Binary Search https://leetcode.com/problems/binary-search/description/"
   ]
  },
  {
   "cell_type": "code",
   "execution_count": null,
   "metadata": {},
   "outputs": [],
   "source": [
    "class Solution:\n",
    "    def search(self, nums: List[int], target: int) -> int:\n",
    "        '''give a ascending order list, find target position in the list, if no return -1\n",
    "        '''\n",
    "        l = 0\n",
    "        r = len(nums) - 1\n",
    "        while l <= r:\n",
    "            mid = (l + r) // 2 # mid = l + (r - l) // 2\n",
    "            if nums[mid] == target:\n",
    "                return mid\n",
    "            elif nums[mid] > target:\n",
    "                r = mid - 1\n",
    "            else:\n",
    "                l = mid + 1\n",
    "        return -1"
   ]
  },
  {
   "cell_type": "markdown",
   "metadata": {},
   "source": [
    "## LC 74. Search a 2D Matrix https://leetcode.com/problems/search-a-2d-matrix/description/"
   ]
  },
  {
   "cell_type": "code",
   "execution_count": null,
   "metadata": {},
   "outputs": [],
   "source": [
    "class Solution:\n",
    "    def searchMatrix(self, matrix: List[List[int]], target: int) -> bool:\n",
    "        '''given ascending order 2D matrix, find target is in the matrix or not\n",
    "        '''\n",
    "        lst = [ele for row in matrix for ele in row] #lst = [matrix[i][j] for i in range(len(matrix)) for j in range(len(matrix[0]))]\n",
    "        l = 0\n",
    "        r = len(lst) - 1\n",
    "        while l <= r:\n",
    "            mid = (l + r) // 2\n",
    "            if lst[mid] == target:\n",
    "                return True\n",
    "            elif lst[mid] > target:\n",
    "                r = mid - 1\n",
    "            else:\n",
    "                l = mid + 1\n",
    "        return False\n",
    "    \n",
    "class Solution:\n",
    "    def searchMatrix(self, matrix: List[List[int]], target: int) -> bool:\n",
    "        m = len(matrix)\n",
    "        n = len(matrix[0])\n",
    "        l = 0\n",
    "        r = m * n - 1\n",
    "        while l <= r:\n",
    "            mid = (l + r) // 2\n",
    "            value = matrix[mid // n][mid % n]\n",
    "            if value == target:\n",
    "                return True\n",
    "            elif value > target:\n",
    "                r = mid - 1\n",
    "            else:\n",
    "                l = mid + 1\n",
    "        return False\n",
    "\n"
   ]
  },
  {
   "cell_type": "markdown",
   "metadata": {},
   "source": [
    "## 875. Koko Eating Bananas https://leetcode.com/problems/koko-eating-bananas/description/"
   ]
  },
  {
   "cell_type": "code",
   "execution_count": null,
   "metadata": {},
   "outputs": [],
   "source": [
    "class Solution:\n",
    "    def minEatingSpeed(self, piles: List[int], h: int) -> int:\n",
    "        '''Find the minimum eating speed Koko needs so that she can finish all the bananas in 'h' hours.\n",
    "        '''\n",
    "        l = 1\n",
    "        r = max(piles)\n",
    "\n",
    "        while l <= r:\n",
    "            mid = (l + r) // 2\n",
    "            time = 0\n",
    "            for pile in piles:\n",
    "                time += ceil(pile / mid)\n",
    "            if time > h:\n",
    "                l = mid + 1\n",
    "            else:\n",
    "                ans = mid\n",
    "                r = mid - 1\n",
    "        return ans"
   ]
  },
  {
   "cell_type": "markdown",
   "metadata": {},
   "source": [
    "## LC 153. Find Minimum in Rotated Sorted Array https://leetcode.com/problems/find-minimum-in-rotated-sorted-array/description/"
   ]
  },
  {
   "cell_type": "code",
   "execution_count": null,
   "metadata": {},
   "outputs": [],
   "source": [
    "class Solution:\n",
    "    def findMin(self, nums: List[int]) -> int:\n",
    "        '''give a rotated asceding order list, return the mininum value\n",
    "        '''\n",
    "        l = 0\n",
    "        r = len(nums)-1\n",
    "        while l < r :\n",
    "            mid =  (r + l) // 2\n",
    "            if nums[mid] < nums[r]:\n",
    "                r = mid\n",
    "            else:\n",
    "                l = mid + 1\n",
    "        return nums[l]\n"
   ]
  }
 ],
 "metadata": {
  "language_info": {
   "name": "python"
  }
 },
 "nbformat": 4,
 "nbformat_minor": 2
}
