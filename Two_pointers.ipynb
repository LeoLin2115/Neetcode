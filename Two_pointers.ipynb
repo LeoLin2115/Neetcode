{
 "cells": [
  {
   "cell_type": "markdown",
   "metadata": {},
   "source": [
    "## Two Pointers 5 problems"
   ]
  },
  {
   "cell_type": "markdown",
   "metadata": {},
   "source": [
    "### 1 easy, 3 medium, 2 hard"
   ]
  },
  {
   "cell_type": "markdown",
   "metadata": {},
   "source": [
    "## LC. 125 https://leetcode.com/problems/valid-palindrome/description/"
   ]
  },
  {
   "cell_type": "code",
   "execution_count": null,
   "metadata": {},
   "outputs": [],
   "source": [
    "class Solution:\n",
    "    def isPalindrome(self, s: str) -> bool:\n",
    "        '''give a string only keep number and alphabet and see it is palindrome or not\n",
    "        '''\n",
    "        news = ''\n",
    "        for ele in s:\n",
    "            if ele.isalnum():\n",
    "                news += ele.lower() \n",
    "        return news == news[::-1]\n",
    "            "
   ]
  },
  {
   "cell_type": "markdown",
   "metadata": {},
   "source": [
    "## LC. 167 https://leetcode.com/problems/two-sum-ii-input-array-is-sorted/description/"
   ]
  },
  {
   "cell_type": "code",
   "execution_count": null,
   "metadata": {},
   "outputs": [],
   "source": [
    "class Solution:\n",
    "    def twoSum(self, numbers: List[int], target: int) -> List[int]:\n",
    "        '''return the 1 - index of two numbers sum equals to target\n",
    "        '''\n",
    "        l, r = 0, len(numbers) - 1\n",
    "        while l < r:\n",
    "            tot = numbers[l] + numbers[r]\n",
    "            if tot == target:\n",
    "                return [l + 1, r + 1]\n",
    "            elif tot > target:\n",
    "                r -= 1\n",
    "            else:\n",
    "                l += 1\n"
   ]
  },
  {
   "cell_type": "markdown",
   "metadata": {},
   "source": [
    "## LC. 15 3Sum\n",
    "https://leetcode.com/problems/3sum/description/"
   ]
  },
  {
   "cell_type": "code",
   "execution_count": null,
   "metadata": {},
   "outputs": [],
   "source": [
    "class Solution:\n",
    "    def threeSum(self, nums: List[int]) -> List[List[int]]:\n",
    "        '''Give a list return [i, j, k] i < j < k satisfy nums[i] + nums[j] + nums[k] == 0\n",
    "        '''\n",
    "        ans = []\n",
    "        nums.sort()\n",
    "        n = len(nums)\n",
    "        i = 0\n",
    "        j = 1\n",
    "        def help(i, j, k, target):\n",
    "            while j < k:\n",
    "                tot = nums[j] + nums[k]\n",
    "                if tot == target:\n",
    "                    ans.append([nums[i], nums[j], nums[k]])\n",
    "                    while j < n - 1 and nums[j] == nums[j + 1]:\n",
    "                        j += 1\n",
    "                    while k > 0 and nums[k] == nums[k - 1]:\n",
    "                        k -= 1\n",
    "                    j += 1\n",
    "                    k -= 1\n",
    "                elif tot > target:\n",
    "                    k -= 1\n",
    "                else:\n",
    "                    j += 1\n",
    "        while i < n - 2:\n",
    "            help(i, i + 1, n - 1, -nums[i])\n",
    "            while i < n - 2 and nums[i] == nums[i + 1]:\n",
    "                i += 1\n",
    "            i += 1\n",
    "        return ans\n"
   ]
  },
  {
   "cell_type": "markdown",
   "metadata": {},
   "source": [
    "## LC.11. Container With Most Water\n",
    "https://leetcode.com/problems/container-with-most-water/description/"
   ]
  },
  {
   "cell_type": "code",
   "execution_count": null,
   "metadata": {},
   "outputs": [],
   "source": [
    "class Solution:\n",
    "    def maxArea(self, height: List[int]) -> int:\n",
    "        '''Give a height list, the number represent the x-axis bars, return the maximum storage area with two bars\n",
    "        '''\n",
    "        n = len(height)\n",
    "        l = 0\n",
    "        r = n - 1\n",
    "        ans = 0\n",
    "        length = r - l \n",
    "        while l < r:\n",
    "            water = min(height[l], height[r]) * length\n",
    "            ans = max(water, ans)\n",
    "            if height[l] >= height[r]:\n",
    "                r -= 1\n",
    "            else:\n",
    "                l += 1\n",
    "            length -= 1\n",
    "        return ans"
   ]
  },
  {
   "cell_type": "markdown",
   "metadata": {},
   "source": [
    "## LC 42. Trapping Rain Water \n",
    "https://leetcode.com/problems/trapping-rain-water/description/"
   ]
  },
  {
   "cell_type": "code",
   "execution_count": null,
   "metadata": {},
   "outputs": [],
   "source": [
    "class Solution:\n",
    "    def trap(self, height: List[int]) -> int:\n",
    "        '''return the water store in bars\n",
    "        '''\n",
    "        ans = 0\n",
    "        n = len(height)\n",
    "        pre = [0]\n",
    "        suf = [0]\n",
    "        pre_max = 0\n",
    "        suf_max = 0\n",
    "        for i in range(1, n):\n",
    "            pre_max = max(pre_max, height[i - 1])\n",
    "            pre.append(pre_max)\n",
    "        for i in range(n - 1, 0, -1):\n",
    "            suf_max = max(suf_max, height[i])\n",
    "            suf.append(suf_max)\n",
    "        suf = suf[::-1]\n",
    "        for i in range(n):\n",
    "            if height[i] < min(suf[i], pre[i]):\n",
    "                ans += min(suf[i], pre[i]) - height[i]\n",
    "        return ans\n",
    "        "
   ]
  }
 ],
 "metadata": {
  "language_info": {
   "name": "python"
  }
 },
 "nbformat": 4,
 "nbformat_minor": 2
}
