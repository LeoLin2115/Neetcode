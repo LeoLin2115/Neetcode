{
 "cells": [
  {
   "cell_type": "markdown",
   "metadata": {},
   "source": [
    "## Array and Hashing 9 problems\n",
    "3 easy, 6 medium\n",
    "\n",
    "\n"
   ]
  },
  {
   "cell_type": "markdown",
   "metadata": {},
   "source": [
    "## LC. 217 https://leetcode.com/problems/contains-duplicate/description/"
   ]
  },
  {
   "cell_type": "code",
   "execution_count": null,
   "metadata": {},
   "outputs": [],
   "source": [
    "class Solution:\n",
    "    def containsDuplicate(self, nums: List[int]) -> bool:\n",
    "        ''' Check is there element appears more than twice \n",
    "        if yes return True, otherwise return False\n",
    "        '''\n",
    "        return len(set(nums)) != len(nums)\n",
    "\n",
    "class Solution:\n",
    "    def containsDuplicate(self, nums: List[int]) -> bool:\n",
    "        s = set()\n",
    "        for num in nums:\n",
    "            if num in s:\n",
    "                return True\n",
    "            s.add(num)\n",
    "        return False"
   ]
  },
  {
   "cell_type": "markdown",
   "metadata": {},
   "source": [
    "## LC. 242 https://leetcode.com/problems/valid-anagram/"
   ]
  },
  {
   "cell_type": "code",
   "execution_count": null,
   "metadata": {},
   "outputs": [],
   "source": [
    "from collections import Counter\n",
    "\n",
    "class Solution:\n",
    "    def isAnagram(self, s: str, t: str) -> bool:\n",
    "        '''return if s and t are anagram\n",
    "        anagram: An anagram is a word or phrase formed by rearranging the letters of a different word or phrase, \n",
    "        using all the original letters exactly once.\n",
    "        '''\n",
    "        return Counter(s) == Counter(t)\n",
    "\n",
    "class Solution:\n",
    "    def isAnagram(self, s: str, t: str) -> bool:\n",
    "        s = sorted(list(s))\n",
    "        t = sorted(list(t))\n",
    "        return t == s\n",
    "\n",
    "class Solution:\n",
    "    def isAnagram(self, s: str, t: str) -> bool:\n",
    "        return sorted(s)==sorted(t)\n",
    "    \n",
    "'''you can sorted(string) output is list of element\n",
    "'''"
   ]
  },
  {
   "cell_type": "markdown",
   "metadata": {},
   "source": [
    "## LC. 1 https://leetcode.com/problems/two-sum/"
   ]
  },
  {
   "cell_type": "code",
   "execution_count": null,
   "metadata": {},
   "outputs": [],
   "source": [
    "class Solution:\n",
    "    def twoSum(self, nums: List[int], target: int) -> List[int]:\n",
    "        '''return the two index of nums which their sum is target\n",
    "        '''\n",
    "        n = len(nums)\n",
    "        for i in range(n):\n",
    "            for j in range(i + 1, n):\n",
    "                if nums[i] + nums[j] == target:\n",
    "                    return [i, j]\n",
    "            \n",
    "class Solution:\n",
    "    def twoSum(self, nums: List[int], target: int) -> List[int]:\n",
    "        n = len(nums)\n",
    "        num_map = {} # number: index\n",
    "        for i in range(n):\n",
    "            if target - nums[i] in num_map:\n",
    "                return [i, num_map[target - nums[i]]]\n",
    "            num_map[nums[i]] = i\n",
    "        "
   ]
  },
  {
   "cell_type": "markdown",
   "metadata": {},
   "source": [
    "## LC. 49 https://leetcode.com/problems/group-anagrams/description/"
   ]
  },
  {
   "cell_type": "code",
   "execution_count": null,
   "metadata": {},
   "outputs": [],
   "source": [
    "import defaultdict\n",
    "class Solution:\n",
    "    def groupAnagrams(self, strs: List[str]) -> List[List[str]]:\n",
    "        '''strs gives many strings and we have group them by anagram and output a list of list with anagrams\n",
    "        '''\n",
    "        d = defaultdict(list)\n",
    "        for str in strs:\n",
    "            s = [0] * 26\n",
    "            for ele in str:\n",
    "                s[ord(ele) - ord('a')] += 1\n",
    "            d[tuple(s)].append(str)\n",
    "        return list(d.values())"
   ]
  },
  {
   "cell_type": "markdown",
   "metadata": {},
   "source": [
    "## LC. 347 https://leetcode.com/problems/top-k-frequent-elements/description/"
   ]
  },
  {
   "cell_type": "code",
   "execution_count": null,
   "metadata": {},
   "outputs": [],
   "source": [
    "from collections import Counter\n",
    "class Solution:\n",
    "    def topKFrequent(self, nums: List[int], k: int) -> List[int]:\n",
    "        '''return the top K frequent numbers in nums\n",
    "        '''\n",
    "        c = Counter(nums)\n",
    "        lst = [[key, value] for key, value in c.items()]\n",
    "        lst.sort(reverse = True, key = lambda x: x[1])\n",
    "        return [lst[i][0] for i in range(k)]\n",
    "    \n",
    "import heapq\n",
    "    \n",
    "class Solution:\n",
    "    def topKFrequent(self, nums: List[int], k: int) -> List[int]:\n",
    "        c = Counter(nums)\n",
    "        lst = [(-value, key) for key, value in c.items()]\n",
    "        heapq.heapify(lst)\n",
    "        ans = []\n",
    "        while k > 0:\n",
    "            _, key = heapq.heappop(lst)\n",
    "            ans.append(key)\n",
    "            k -= 1\n",
    "        return ans"
   ]
  },
  {
   "cell_type": "markdown",
   "metadata": {},
   "source": [
    "## **LC. 659 https://www.lintcode.com/problem/659/\n"
   ]
  },
  {
   "cell_type": "code",
   "execution_count": null,
   "metadata": {},
   "outputs": [],
   "source": [
    "class Solution:\n",
    "    \"\"\"\n",
    "    @param: strs: a list of strings\n",
    "    @return: encodes a list of strings to a single string.\n",
    "    \"\"\"\n",
    "    def encode(self, strs):\n",
    "        # write your code here\n",
    "        s = ''\n",
    "        for st in strs:\n",
    "            s += str(len(st)) + '*' + st \n",
    "        return s\n",
    "    \"\"\"\n",
    "    @param: str: A string\n",
    "    @return: decodes a single string to a list of strings\n",
    "    \"\"\"\n",
    "    def decode(self, s):\n",
    "        # write your code here\n",
    "        lst = []\n",
    "        i = 0\n",
    "        while i < len(s):\n",
    "            j = i\n",
    "            while s[j] != '*':\n",
    "                j += 1\n",
    "            length = int(s[i:j])\n",
    "            i = j + 1\n",
    "            j = i + length\n",
    "            lst.append(s[i:j])\n",
    "            i = j\n",
    "        return lst"
   ]
  },
  {
   "cell_type": "markdown",
   "metadata": {},
   "source": [
    "## LC.238 https://leetcode.com/problems/product-of-array-except-self/\n"
   ]
  },
  {
   "cell_type": "code",
   "execution_count": null,
   "metadata": {},
   "outputs": [],
   "source": [
    "class Solution:\n",
    "    def productExceptSelf(self, nums: List[int]) -> List[int]:\n",
    "        '''give a list and return a list which is product all numbers without nums[i] for each i\n",
    "        '''\n",
    "        pre = [1]\n",
    "        suf = [1]\n",
    "        product = 1\n",
    "        n = len(nums)\n",
    "        for i in range(1, n):\n",
    "            product *= nums[i - 1]\n",
    "            pre.append(product)\n",
    "        product = 1\n",
    "        for i in range(n - 1, 0, -1):\n",
    "            product *= nums[i]\n",
    "            suf.append(product)\n",
    "        ans = [pre[i] * suf[n - i - 1] for i in range(n)]\n",
    "        return ans\n",
    "\n",
    "#from Neetcode\n",
    "class Solution:\n",
    "    def productExceptSelf(self, nums: List[int]) -> List[int]:\n",
    "        res = [1] * (len(nums))\n",
    "        prefix = 1\n",
    "        for i in range(len(nums)):\n",
    "            res[i] = prefix\n",
    "            prefix *= nums[i]\n",
    "        postfix = 1\n",
    "        for i in range(len(nums) - 1, -1, -1):\n",
    "            res[i] *= postfix\n",
    "            postfix *= nums[i]\n",
    "        return res"
   ]
  },
  {
   "cell_type": "markdown",
   "metadata": {},
   "source": [
    "## LC. 36 https://leetcode.com/problems/valid-sudoku/description/"
   ]
  },
  {
   "cell_type": "code",
   "execution_count": null,
   "metadata": {},
   "outputs": [],
   "source": [
    "class Solution:\n",
    "    def isValidSudoku(self, board: List[List[str]]) -> bool:\n",
    "        '''check the sudoku is valid or not\n",
    "        if there are repeat number on rows or cols or girds than it is not valid\n",
    "        '''\n",
    "        ver = {i:set() for i in range(9)}\n",
    "        hor = {i:set() for i in range(9)}\n",
    "        grid = {(i, j): set() for i in range(3) for j in range(3)}\n",
    "        for i in range(9):\n",
    "            for j in range(9):\n",
    "                if board[i][j] != '.':\n",
    "                    if board[i][j] in ver[i]:\n",
    "                        return False\n",
    "                    if board[i][j] in hor[j]:\n",
    "                        return False\n",
    "                    if board[i][j] in grid[(i // 3, j // 3)]:\n",
    "                        return False\n",
    "                    ver[i].add(board[i][j])\n",
    "                    hor[j].add(board[i][j])\n",
    "                    grid[(i // 3, j // 3)].add(board[i][j])\n",
    "        return True"
   ]
  },
  {
   "cell_type": "markdown",
   "metadata": {},
   "source": [
    "## LC.128 https://leetcode.com/problems/longest-consecutive-sequence/"
   ]
  },
  {
   "cell_type": "code",
   "execution_count": null,
   "metadata": {},
   "outputs": [],
   "source": [
    "class Solution:\n",
    "    def longestConsecutive(self, nums: List[int]) -> int:\n",
    "        '''return the longest length of continous numbers in nums\n",
    "        '''\n",
    "        s = set(nums)\n",
    "        ans = 0\n",
    "        for num in s:\n",
    "            count = 0\n",
    "            if num - 1 not in s:\n",
    "                while num in s:\n",
    "                    count += 1 \n",
    "                    num += 1\n",
    "                ans = max(count, ans)\n",
    "        return ans"
   ]
  }
 ],
 "metadata": {
  "language_info": {
   "name": "python"
  }
 },
 "nbformat": 4,
 "nbformat_minor": 2
}
