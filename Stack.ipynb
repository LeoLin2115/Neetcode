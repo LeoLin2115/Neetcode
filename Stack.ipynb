{
 "cells": [
  {
   "cell_type": "markdown",
   "metadata": {},
   "source": [
    "## Stack 7 problems"
   ]
  },
  {
   "cell_type": "markdown",
   "metadata": {},
   "source": [
    "### 1 easy, 5 medium, 1 hard"
   ]
  },
  {
   "cell_type": "markdown",
   "metadata": {},
   "source": [
    "## LC 20. Valid Parentheses https://leetcode.com/problems/valid-parentheses/description/"
   ]
  },
  {
   "cell_type": "code",
   "execution_count": null,
   "metadata": {},
   "outputs": [],
   "source": [
    "class Solution:\n",
    "    def isValid(self, s: str) -> bool:\n",
    "        '''give s is a string of parentheses, return the boolean that all pair of parentheses work good\n",
    "        '''\n",
    "        stack = []\n",
    "        par_map = {')':'(', ']':'[', '}':'{'}\n",
    "        for par in s:\n",
    "            if par not in par_map:\n",
    "                stack.append(par)\n",
    "            else:\n",
    "                if stack and stack[-1] == par_map[par]:\n",
    "                    stack.pop()\n",
    "                else:\n",
    "                    return False\n",
    "        return len(stack) == 0"
   ]
  },
  {
   "cell_type": "markdown",
   "metadata": {},
   "source": [
    "## LC 155. Min Stack https://leetcode.com/problems/min-stack/description/"
   ]
  },
  {
   "cell_type": "code",
   "execution_count": null,
   "metadata": {},
   "outputs": [],
   "source": [
    "class MinStack:\n",
    "    '''gives functions work\n",
    "    '''\n",
    "    def __init__(self):\n",
    "        self.stack = []\n",
    "        self.min_stack = []\n",
    "\n",
    "    def push(self, val: int) -> None:\n",
    "        self.stack.append(val)\n",
    "        self.min_stack.append(min(self.min_stack[-1], val) if self.min_stack else val)\n",
    "\n",
    "    def pop(self) -> None:\n",
    "        self.stack.pop()\n",
    "        self.min_stack.pop()\n",
    "\n",
    "    def top(self) -> int:\n",
    "        return self.stack[-1]\n",
    "\n",
    "    def getMin(self) -> int:\n",
    "        return self.min_stack[-1]\n",
    "\n",
    "\n",
    "# Your MinStack object will be instantiated and called as such:\n",
    "# obj = MinStack()\n",
    "# obj.push(val)\n",
    "# obj.pop()\n",
    "# param_3 = obj.top()\n",
    "# param_4 = obj.getMin()"
   ]
  },
  {
   "cell_type": "markdown",
   "metadata": {},
   "source": [
    "## LC 150. Evaluate Reverse Polish Notation https://leetcode.com/problems/evaluate-reverse-polish-notation/description/"
   ]
  },
  {
   "cell_type": "code",
   "execution_count": null,
   "metadata": {},
   "outputs": [],
   "source": [
    "class Solution:\n",
    "    def evalRPN(self, tokens: List[str]) -> int:\n",
    "        '''tokens gives +, -, *, / and integers, return the calcualted number\n",
    "        '''\n",
    "        stack = []\n",
    "        for token in tokens:\n",
    "            if token == '+':\n",
    "                stack.append(stack.pop() + stack.pop())\n",
    "            elif token == '-':\n",
    "                last = stack.pop()\n",
    "                pre = stack.pop()\n",
    "                stack.append(pre - last)\n",
    "            elif token == '*':\n",
    "                stack.append(stack.pop() * stack.pop())\n",
    "            elif token == '/':\n",
    "                last = stack.pop()\n",
    "                pre = stack.pop()\n",
    "                stack.append(int(pre / last))\n",
    "            else:\n",
    "                stack.append(int(token))\n",
    "        return stack[0]"
   ]
  },
  {
   "cell_type": "markdown",
   "metadata": {},
   "source": [
    "## LC 22. Generate Parentheses https://leetcode.com/problems/generate-parentheses/description/"
   ]
  },
  {
   "cell_type": "code",
   "execution_count": null,
   "metadata": {},
   "outputs": [],
   "source": [
    "# from others solution this is backtrack\n",
    "class Solution:\n",
    "    def generateParenthesis(self, n: int) -> List[str]:\n",
    "        res = []\n",
    "        def dfs(openP, closeP, s):\n",
    "            if openP == closeP and openP + closeP == 2 * n:\n",
    "                res.append(s)\n",
    "                return\n",
    "            \n",
    "            if openP < n:\n",
    "                dfs(openP + 1, closeP, s + '(')\n",
    "            if closeP < openP:\n",
    "                dfs(openP, closeP + 1, s + ')')\n",
    "        dfs(0, 0, '')\n",
    "        return res"
   ]
  },
  {
   "cell_type": "markdown",
   "metadata": {},
   "source": [
    "## LC 739. Daily Temperatures https://leetcode.com/problems/daily-temperatures/description/\n"
   ]
  },
  {
   "cell_type": "code",
   "execution_count": null,
   "metadata": {},
   "outputs": [],
   "source": [
    "class Solution:\n",
    "    def dailyTemperatures(self, temperatures: List[int]) -> List[int]:\n",
    "        n = len(temperatures)\n",
    "        stack = []\n",
    "        ans = [0] * n\n",
    "        for i in range(n):\n",
    "            while stack and temperatures[i] > stack[-1][0]:\n",
    "                _, ind = stack.pop()\n",
    "                ans[ind] = i - ind\n",
    "            stack.append([temperatures[i], i])\n",
    "        return ans"
   ]
  }
 ],
 "metadata": {
  "language_info": {
   "name": "python"
  }
 },
 "nbformat": 4,
 "nbformat_minor": 2
}
